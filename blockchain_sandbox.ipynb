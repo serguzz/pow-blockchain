{
 "cells": [
  {
   "cell_type": "code",
   "execution_count": null,
   "id": "d8d9c773-cf7b-49bd-9463-34b88b83a55f",
   "metadata": {},
   "outputs": [],
   "source": [
    "import hashlib\n",
    "import time"
   ]
  },
  {
   "cell_type": "code",
   "execution_count": 18,
   "id": "532866ab-f0f7-492e-bee0-7ed3ccee133f",
   "metadata": {},
   "outputs": [],
   "source": [
    "# Improved: Block with PoW\n",
    "class Block:\n",
    "    def __init__(self, index, previous_hash, transactions, difficulty=4, timestamp=None):\n",
    "        self.index = index\n",
    "        self.previous_hash = previous_hash\n",
    "        self.transactions = transactions\n",
    "        self.timestamp = timestamp or time.time()\n",
    "        self.nonce = 0  # Starts at 0\n",
    "        self.difficulty = difficulty  # Number of leading zeros required in hash\n",
    "        self.hash = self.mine_block()\n",
    "\n",
    "    def calculate_hash(self):\n",
    "        \"\"\"Returns SHA-256 hash of block data.\"\"\"\n",
    "        data = f\"{self.index}{self.previous_hash}{self.transactions}{self.timestamp}{self.nonce}\"\n",
    "        return hashlib.sha256(data.encode()).hexdigest()\n",
    "\n",
    "    def mine_block(self):\n",
    "        \"\"\"Proof of Work: Adjust nonce until hash meets difficulty criteria.\"\"\"\n",
    "        while True:\n",
    "            hash_attempt = self.calculate_hash()\n",
    "            if hash_attempt[:self.difficulty] == \"0\" * self.difficulty:  # Check if hash meets difficulty\n",
    "                return hash_attempt\n",
    "            self.nonce += 1  # Increment nonce and try again\n"
   ]
  },
  {
   "cell_type": "code",
   "execution_count": 28,
   "id": "4e0e5c81-03b8-46d3-b111-d99b620c5fa4",
   "metadata": {},
   "outputs": [],
   "source": [
    "class Blockchain:\n",
    "    difficulty = 4  # difficulty of the genesis Block\n",
    "    def __init__(self, difficulty=4):  # Set default difficulty to 4\n",
    "        self.chain = [self.create_genesis_block()]\n",
    "        self.difficulty = difficulty  # Initialize difficulty\n",
    "\n",
    "    def create_genesis_block(self):\n",
    "        \"\"\"Creates the first block with a fixed previous hash.\"\"\"\n",
    "        return Block(0, \"0\", \"Genesis Block\", self.difficulty)\n",
    "\n",
    "    def get_latest_block(self):\n",
    "        return self.chain[-1]\n",
    "\n",
    "    def add_block(self, transactions):\n",
    "        \"\"\"Adds a new block with PoW to the blockchain.\"\"\"\n",
    "        latest_block = self.get_latest_block()\n",
    "        new_block = Block(len(self.chain), latest_block.hash, transactions, self.difficulty)\n",
    "        self.chain.append(new_block)\n",
    "        print(f\"Block {new_block.index} mined with hash: {new_block.hash}\")\n"
   ]
  },
  {
   "cell_type": "code",
   "execution_count": 38,
   "id": "261729c2-332d-4023-b2d5-57a38fa7cc4c",
   "metadata": {},
   "outputs": [
    {
     "name": "stdout",
     "output_type": "stream",
     "text": [
      "Block 1 mined with hash: 0000007d8d2c3af00b086e7da88962ed9ee1b7a9f52272ae9b553888813a5960\n",
      "Block 2 mined with hash: 000000ea8b252ad4d639d7d57a4840ce3626fab4fe6c3ab59e97e004961bc46f\n",
      "Block 0:\n",
      "  Previous Hash: 0\n",
      "  Transactions: Genesis Block\n",
      "  Timestamp: 1738760926.2991364\n",
      "  Nonce: 9620\n",
      "  Hash: 0000d560bfcc3326908de5dc1a39850431521b4bc5f31c29b6583699420deb8c\n",
      "\n",
      "Block 1:\n",
      "  Previous Hash: 0000d560bfcc3326908de5dc1a39850431521b4bc5f31c29b6583699420deb8c\n",
      "  Transactions: Alice pays Bob 10 BTC\n",
      "  Timestamp: 1738760926.3139665\n",
      "  Nonce: 25817739\n",
      "  Hash: 0000007d8d2c3af00b086e7da88962ed9ee1b7a9f52272ae9b553888813a5960\n",
      "\n",
      "Block 2:\n",
      "  Previous Hash: 0000007d8d2c3af00b086e7da88962ed9ee1b7a9f52272ae9b553888813a5960\n",
      "  Transactions: Bob pays Charlie 5 BTC\n",
      "  Timestamp: 1738760966.0828998\n",
      "  Nonce: 68552720\n",
      "  Hash: 000000ea8b252ad4d639d7d57a4840ce3626fab4fe6c3ab59e97e004961bc46f\n",
      "\n"
     ]
    }
   ],
   "source": [
    "# Test the Blockchain with PoW\n",
    "\n",
    "# Initialize Blockchain with difficulty level 4\n",
    "my_blockchain = Blockchain(difficulty=6)\n",
    "\n",
    "# Add new blocks\n",
    "my_blockchain.add_block(\"Alice pays Bob 10 BTC\")\n",
    "my_blockchain.add_block(\"Bob pays Charlie 5 BTC\")\n",
    "\n",
    "# Print the blockchain\n",
    "for block in my_blockchain.chain:\n",
    "    print(f\"Block {block.index}:\")\n",
    "    print(f\"  Previous Hash: {block.previous_hash}\")\n",
    "    print(f\"  Transactions: {block.transactions}\")\n",
    "    print(f\"  Timestamp: {block.timestamp}\")\n",
    "    print(f\"  Nonce: {block.nonce}\")\n",
    "    print(f\"  Hash: {block.hash}\\n\")"
   ]
  },
  {
   "cell_type": "code",
   "execution_count": null,
   "id": "121f51dc-577d-4780-b6b8-310fc866b551",
   "metadata": {},
   "outputs": [],
   "source": []
  }
 ],
 "metadata": {
  "kernelspec": {
   "display_name": "Python 3 (ipykernel)",
   "language": "python",
   "name": "python3"
  },
  "language_info": {
   "codemirror_mode": {
    "name": "ipython",
    "version": 3
   },
   "file_extension": ".py",
   "mimetype": "text/x-python",
   "name": "python",
   "nbconvert_exporter": "python",
   "pygments_lexer": "ipython3",
   "version": "3.9.20"
  }
 },
 "nbformat": 4,
 "nbformat_minor": 5
}
